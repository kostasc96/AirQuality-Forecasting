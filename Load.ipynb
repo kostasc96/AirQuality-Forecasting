{
 "cells": [
  {
   "cell_type": "code",
   "execution_count": 1,
   "metadata": {},
   "outputs": [],
   "source": [
    "from tensorflow.keras.layers import Input, LSTM, GRU, SimpleRNN, Dense, GlobalMaxPool1D\n",
    "from tensorflow.keras.models import Model\n",
    "from tensorflow.keras.optimizers import SGD, Adam\n",
    "\n",
    "import numpy as np\n",
    "import pandas as pd\n",
    "import matplotlib.pyplot as plt\n",
    "from sklearn.preprocessing import StandardScaler"
   ]
  },
  {
   "cell_type": "code",
   "execution_count": 5,
   "metadata": {},
   "outputs": [],
   "source": [
    "files_path = 'CleanFiles/'\n",
    "files_format = '.csv'\n",
    "files_postfix = 'Extract'\n",
    "file_names = ['AgiaParaskevi','Aristotelous','Athens','Elefsina','Koropi','Liosia',\n",
    "              'Lykovrisi','Marousi','NeaSmirni','Patision','Peristeri',\n",
    "              'Pireus','Thrakomakedones']"
   ]
  },
  {
   "cell_type": "code",
   "execution_count": 6,
   "metadata": {},
   "outputs": [],
   "source": [
    "def pm10_index(val):\n",
    "    if val <= 25.0:\n",
    "        return 0\n",
    "    elif 26.0 <= val <= 50.0:\n",
    "        return 1\n",
    "    elif 51.0 <= val <= 90.0:\n",
    "        return 2\n",
    "    elif 91.0 <= val <= 180.0:\n",
    "        return 3\n",
    "    else:\n",
    "        return 4"
   ]
  },
  {
   "cell_type": "code",
   "execution_count": 8,
   "metadata": {},
   "outputs": [],
   "source": [
    "#neasmirni = pd.read_csv('CleanFiles/NeaSmirniExtract.csv', sep=',')\n",
    "#neasmirni = neasmirni[['date_time','station_id','season','real_temp','real_windspd','real_winddir','real_humidity','forecast_tempC','forecast_windSpeed','forecast_windDirection','forecast_humidity','pm10']]\n",
    "#neasmirni['pm10'] = neasmirni['pm10'].map(lambda a: pm10_index(a))\n",
    "#temp = pd.read_csv('CleanFiles/PeristeriExtract.csv', sep=',')"
   ]
  },
  {
   "cell_type": "code",
   "execution_count": 4,
   "metadata": {},
   "outputs": [],
   "source": [
    "T = 72\n",
    "D = 1\n",
    "X = []\n",
    "Y = []\n",
    "for t in range(len(neasmirni) - T):\n",
    "    x = neasmirni[t:t+T]\n",
    "    X.append(x)\n",
    "    y = neasmirni[t:t+T]\n",
    "    Y.append(y)"
   ]
  },
  {
   "cell_type": "code",
   "execution_count": null,
   "metadata": {},
   "outputs": [],
   "source": []
  }
 ],
 "metadata": {
  "kernelspec": {
   "display_name": "Python 3",
   "language": "python",
   "name": "python3"
  },
  "language_info": {
   "codemirror_mode": {
    "name": "ipython",
    "version": 3
   },
   "file_extension": ".py",
   "mimetype": "text/x-python",
   "name": "python",
   "nbconvert_exporter": "python",
   "pygments_lexer": "ipython3",
   "version": "3.7.3"
  }
 },
 "nbformat": 4,
 "nbformat_minor": 2
}
