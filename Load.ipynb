{
 "cells": [
  {
   "cell_type": "code",
   "execution_count": 1,
   "metadata": {},
   "outputs": [],
   "source": [
    "# from tensorflow.keras.layers import Input, LSTM, GRU, SimpleRNN, Dense, GlobalMaxPool1D,Reshape\n",
    "# from tensorflow.keras.models import Model\n",
    "from tensorflow.keras.optimizers import SGD, Adam, RMSprop\n",
    "from tensorflow.keras import layers,models\n",
    "# from tensorflow.keras import layers, models\n",
    "\n",
    "import numpy as np\n",
    "import pandas as pd\n",
    "import matplotlib.pyplot as plt\n",
    "from sklearn.preprocessing import StandardScaler\n",
    "from sklearn.model_selection import GridSearchCV\n",
    "import lightgbm as lgb\n",
    "from sklearn.metrics import accuracy_score\n",
    "from sklearn.model_selection import KFold\n",
    "from sklearn.ensemble import GradientBoostingRegressor\n",
    "\n",
    "from sklearn.model_selection import cross_val_score\n",
    "from lightgbm import LGBMClassifier\n",
    "from sklearn.model_selection import RepeatedStratifiedKFold\n",
    "from sklearn.model_selection import KFold\n",
    "from xgboost import XGBClassifier\n",
    "from sklearn.ensemble import RandomForestRegressor\n",
    "from sklearn.multioutput import MultiOutputRegressor\n",
    "from sklearn.ensemble import GradientBoostingRegressor\n",
    "from sklearn.preprocessing import LabelEncoder"
   ]
  },
  {
   "cell_type": "code",
   "execution_count": 2,
   "metadata": {},
   "outputs": [],
   "source": [
    "files_path = 'CleanFiles/'\n",
    "files_format = '.csv'\n",
    "files_postfix = 'Extract'\n",
    "file_names = ['AgiaParaskevi','Aristotelous','Athens','Elefsina','Koropi','Liosia',\n",
    "              'Lykovrisi','Marousi','NeaSmirni','Patision','Peristeri',\n",
    "              'Pireus','Thrakomakedones']"
   ]
  },
  {
   "cell_type": "code",
   "execution_count": 3,
   "metadata": {},
   "outputs": [],
   "source": [
    "def pm10_index(val):\n",
    "    if val <= 25.0:\n",
    "        return 0\n",
    "    elif 26.0 <= val <= 50.0:\n",
    "        return 1\n",
    "    elif 51.0 <= val <= 90.0:\n",
    "        return 2\n",
    "    elif 91.0 <= val <= 180.0:\n",
    "        return 3\n",
    "    else:\n",
    "        return 4"
   ]
  },
  {
   "cell_type": "code",
   "execution_count": 4,
   "metadata": {},
   "outputs": [],
   "source": [
    "def get_time(tmp):\n",
    "    return tmp[11:13]"
   ]
  },
  {
   "cell_type": "code",
   "execution_count": 5,
   "metadata": {},
   "outputs": [],
   "source": [
    "def get_season(tmp):\n",
    "    if tmp == 'Spring':\n",
    "        return '1'\n",
    "    elif tmp == 'Spring/Summer':\n",
    "        return '2'\n",
    "    elif tmp == 'Summer':\n",
    "        return '3'\n",
    "    elif tmp == 'Summer/Autumn':\n",
    "        return '4'\n",
    "    elif tmp == 'Autumn':\n",
    "        return '5'\n",
    "    elif tmp == 'Autumn/Winter':\n",
    "        return '6'\n",
    "    elif tmp == 'Winter/Spring':\n",
    "        return '7'\n",
    "    else:\n",
    "        return '8'"
   ]
  },
  {
   "cell_type": "code",
   "execution_count": 6,
   "metadata": {},
   "outputs": [],
   "source": [
    "def get_winddir(tmp):\n",
    "    if tmp == 'N':\n",
    "        return '1'\n",
    "    elif tmp == 'NNE':\n",
    "        return '2'\n",
    "    elif tmp == 'NE':\n",
    "        return '3'\n",
    "    elif tmp == 'ENE':\n",
    "        return '4'\n",
    "    elif tmp == 'E':\n",
    "        return '5'\n",
    "    elif tmp == 'ESE':\n",
    "        return '6'\n",
    "    elif tmp == 'SE':\n",
    "        return '7'\n",
    "    elif tmp == 'SSE':\n",
    "        return '8'\n",
    "    elif tmp == 'S':\n",
    "        return '9'\n",
    "    elif tmp == 'SSW':\n",
    "        return '10'\n",
    "    elif tmp == 'SW':\n",
    "        return '11'\n",
    "    elif tmp == 'WSW':\n",
    "        return '12'\n",
    "    elif tmp == 'W':\n",
    "        return '13'\n",
    "    elif tmp == 'WNW':\n",
    "        return '14'\n",
    "    elif tmp == 'NW':\n",
    "        return '15'\n",
    "    else:\n",
    "        return '16'"
   ]
  },
  {
   "cell_type": "code",
   "execution_count": 45,
   "metadata": {},
   "outputs": [],
   "source": [
    "#neasmirni = pd.read_csv('CleanFiles/NeaSmirniExtract.csv', sep=',')\n",
    "#neasmirni = neasmirni[['date_time','station_id','season','real_temp','real_windspd','real_winddir','real_humidity','forecast_tempC','forecast_windSpeed','forecast_windDirection','forecast_humidity','pm10']]\n",
    "#neasmirni['pm10'] = neasmirni['pm10'].map(lambda a: pm10_index(a))\n",
    "#temp = pd.read_csv('CleanFiles/PeristeriExtract.csv', sep=',')"
   ]
  },
  {
   "cell_type": "code",
   "execution_count": 8,
   "metadata": {},
   "outputs": [],
   "source": [
    "# T = 72\n",
    "# D = 1\n",
    "# X = []\n",
    "# Y = []\n",
    "# for t in range(len(neasmirni) - T):\n",
    "#     x = neasmirni[t:t+T]\n",
    "#     X.append(x)\n",
    "#     y = neasmirni[t:t+T]\n",
    "#     Y.append(y)"
   ]
  },
  {
   "cell_type": "code",
   "execution_count": 83,
   "metadata": {},
   "outputs": [],
   "source": [
    "def create_xy(series, window_size, prediction_horizon, shuffle = False):\n",
    "    x = []\n",
    "    y = []\n",
    "    for i in range(0, len(series)):\n",
    "        if len(series[(i + window_size):(i + window_size + prediction_horizon)]) < prediction_horizon:\n",
    "            break\n",
    "#         x.append(np.array(series[i:(i + window_size)]))\n",
    "#         y.append(np.array(series[(i + window_size):(i + window_size + prediction_horizon)]))\n",
    "        x.append(np.array(series[i:i+window_size][['station_id','season','real_temp','real_humidity','real_windspd','real_winddir','forecast_tempC','forecast_humidity','forecast_windSpeed','forecast_windDirection']]))\n",
    "        y.append(np.array(series[i+window_size:i+window_size+prediction_horizon]['pm10']))\n",
    "    x = np.array(x)\n",
    "    y = np.array(y)\n",
    "    return x,y"
   ]
  },
  {
   "cell_type": "code",
   "execution_count": 10,
   "metadata": {},
   "outputs": [],
   "source": [
    "parameters = {\n",
    "    'n_estimators': 2000,\n",
    "    'max_depth': 4,\n",
    "    'num_leaves': 2**4,\n",
    "    'learning_rate': 0.1,\n",
    "    'boosting_type': 'dart'\n",
    "}"
   ]
  },
  {
   "cell_type": "code",
   "execution_count": 11,
   "metadata": {},
   "outputs": [],
   "source": [
    "def gru(units,drop,out_features):\n",
    "\n",
    "    input=Input(shape=(72,10))\n",
    "    result=GRU(units,dropout=drop,return_sequences=False)(input)\n",
    "    result=layers.Dense(2)(result)\n",
    "    result=Reshape(target_shape=(48,out_features))(result)\n",
    "    \n",
    "    return Model(inputs=input,outputs=result)"
   ]
  },
  {
   "cell_type": "code",
   "execution_count": 12,
   "metadata": {},
   "outputs": [],
   "source": [
    "def seq2seq(units,bn,drop=0.0,channel=3):\n",
    "    encoder_inputs = Input(shape=(72,10))\n",
    "\n",
    "    encoder = GRU(units, dropout=drop,return_state=True)\n",
    "    _,encoder_states = encoder(encoder_inputs)\n",
    "    if bn:\n",
    "        encoder_states=BatchNormalization()(encoder_states)\n",
    "    decoder=RepeatVector(48)(encoder_states)\n",
    "    decoder_gru = GRU(units, dropout=drop, return_sequences=True, return_state=False)\n",
    "    decoder = decoder_gru(decoder, initial_state=encoder_states)\n",
    "    \n",
    "    out = TimeDistributed(Dense(channel))(decoder)\n",
    "    return models.Model(encoder_inputs, out)"
   ]
  },
  {
   "cell_type": "code",
   "execution_count": 13,
   "metadata": {},
   "outputs": [],
   "source": [
    "def gatedDNN():\n",
    "    model = Sequential()\n",
    "    model.add(layers.Input(shape=(76,)))\n",
    "    model.add(layers.Dense(2, activation='relu'))\n",
    "    model.compile(loss='mean_squared_error', optimizer='adam')\n",
    "    return model"
   ]
  },
  {
   "cell_type": "code",
   "execution_count": 84,
   "metadata": {},
   "outputs": [],
   "source": [
    "def loadToModel(files, formating, pathFiles, postfx, params):\n",
    "    T = 72\n",
    "    D = 1\n",
    "    X = []\n",
    "    Y = []\n",
    "    for fileName in files:\n",
    "        accuracy = 0\n",
    "        df = pd.read_csv(pathFiles + fileName + postfx + formating, sep=',')\n",
    "        #df['pm10'] = df['pm10'].astype(int)\n",
    "        #df['pm10'] = df['pm10'].map(lambda a: pm10_index(a))\n",
    "        df['date_time'] = df['date_time'].astype(\"|S\")\n",
    "        df['season'] = df['season'].astype(\"|S\")\n",
    "        df['forecast_windDirection'] = df['forecast_windDirection'].astype(\"|S\")\n",
    "        df['real_winddir'] = df['real_winddir'].astype(\"|S\")\n",
    "        df['date_time'] = df['date_time'].map(lambda a: get_time(a))\n",
    "        df['date_time'] = df['date_time'].astype(np.float64)\n",
    "        df['season'] = df['season'].map(lambda a: get_season(a))\n",
    "        df['season'] = df['season'].astype(np.float64)\n",
    "        df['forecast_windDirection'] = df['forecast_windDirection'].map(lambda a: get_winddir(a))\n",
    "        df['forecast_windDirection'] = df['forecast_windDirection'].astype(np.float64)\n",
    "        df['real_winddir'] = df['real_winddir'].map(lambda a: get_winddir(a))\n",
    "        df['real_winddir'] = df['real_winddir'].astype(np.float64)\n",
    "        #df['pm10'] = df['pm10'].astype('int')\n",
    "        df['station_id'] = df['station_id'].astype(np.float64)\n",
    "        df['forecast_tempC'] = df['forecast_tempC'].astype(np.float64)\n",
    "        df['forecast_humidity'] = df['forecast_humidity'].astype(np.float64)\n",
    "        X,y = create_xy(df[['station_id','season','real_temp','real_humidity','real_windspd','real_winddir','forecast_tempC','forecast_humidity','forecast_windSpeed','forecast_windDirection','pm10']],72, 48)\n",
    "        accuracy = 0\n",
    "        print(fileName + ' begins prediction')\n",
    "        print(y.dtype)\n",
    "#        model = GradientBoostingRegressor(learning_rate=0.05,max_features=0.6,max_leaf_nodes=31,n_estimators=200)\n",
    "        \n",
    "        #model = MultiOutputRegressor(gbm,-1)\n",
    "        model = lgb.LGBMRegressor()\n",
    "        #model = XGBClassifier()\n",
    "        #model = XGBClassifier(gamma=0.1, max_depth=50, n_estimators=80, learning_rate=0.1, colsample_bytree=.7, reg_alpha=4, objective='binary:logistic', eta=0.3, silent=1, subsample=0.8)\n",
    "        kf = KFold(n_splits=5)\n",
    "#         X = [np.concatenate(i) for i in X]\n",
    "#         y = [np.concatenate(i) for i in y]\n",
    "#         X = np.array(X)\n",
    "#         y = np.array(y)\n",
    "\n",
    "        nsamples, nx, ny = np.array(X).shape\n",
    "        X = X.reshape((nsamples,nx*ny))\n",
    "        nsamples2, nx2 = np.array(y).shape\n",
    "        y = y.reshape((nsamples2,nx2))\n",
    "        print(X.shape)\n",
    "        print(y.shape)\n",
    "        #encoder1 = LabelEncoder() \n",
    "        for trainI,testI in kf.split(X):\n",
    "#             x_train = encoder1.fit_transform(X[trainI])\n",
    "#             x_test = encoder1.transform(X[testI])\n",
    "            model.fit(X[trainI],y[trainI])\n",
    "            #model.fit(x_train,y[trainI])\n",
    "            predictions = model.predict(X[testI])\n",
    "            accuracy += accuracy_score(y[testI], predictions)\n",
    "        \n",
    "        print('Accuracy ' + fileName + ': %.3f' % (accuracy))"
   ]
  },
  {
   "cell_type": "code",
   "execution_count": 85,
   "metadata": {},
   "outputs": [
    {
     "name": "stdout",
     "output_type": "stream",
     "text": [
      "AgiaParaskevi begins prediction\n",
      "float64\n",
      "(43729, 720)\n",
      "(43729, 48)\n"
     ]
    },
    {
     "ename": "ValueError",
     "evalue": "bad input shape (34983, 48)",
     "output_type": "error",
     "traceback": [
      "\u001b[1;31m---------------------------------------------------------------------------\u001b[0m",
      "\u001b[1;31mValueError\u001b[0m                                Traceback (most recent call last)",
      "\u001b[1;32m<ipython-input-85-5b659f99eb55>\u001b[0m in \u001b[0;36m<module>\u001b[1;34m\u001b[0m\n\u001b[1;32m----> 1\u001b[1;33m \u001b[0mloadToModel\u001b[0m\u001b[1;33m(\u001b[0m\u001b[0mfile_names\u001b[0m\u001b[1;33m,\u001b[0m \u001b[0mfiles_format\u001b[0m\u001b[1;33m,\u001b[0m \u001b[0mfiles_path\u001b[0m\u001b[1;33m,\u001b[0m \u001b[0mfiles_postfix\u001b[0m\u001b[1;33m,\u001b[0m \u001b[0mparameters\u001b[0m\u001b[1;33m)\u001b[0m\u001b[1;33m\u001b[0m\u001b[1;33m\u001b[0m\u001b[0m\n\u001b[0m",
      "\u001b[1;32m<ipython-input-84-92b76825766d>\u001b[0m in \u001b[0;36mloadToModel\u001b[1;34m(files, formating, pathFiles, postfx, params)\u001b[0m\n\u001b[0;32m     51\u001b[0m \u001b[1;31m#             x_train = encoder1.fit_transform(X[trainI])\u001b[0m\u001b[1;33m\u001b[0m\u001b[1;33m\u001b[0m\u001b[1;33m\u001b[0m\u001b[0m\n\u001b[0;32m     52\u001b[0m \u001b[1;31m#             x_test = encoder1.transform(X[testI])\u001b[0m\u001b[1;33m\u001b[0m\u001b[1;33m\u001b[0m\u001b[1;33m\u001b[0m\u001b[0m\n\u001b[1;32m---> 53\u001b[1;33m             \u001b[0mmodel\u001b[0m\u001b[1;33m.\u001b[0m\u001b[0mfit\u001b[0m\u001b[1;33m(\u001b[0m\u001b[0mX\u001b[0m\u001b[1;33m[\u001b[0m\u001b[0mtrainI\u001b[0m\u001b[1;33m]\u001b[0m\u001b[1;33m,\u001b[0m\u001b[0my\u001b[0m\u001b[1;33m[\u001b[0m\u001b[0mtrainI\u001b[0m\u001b[1;33m]\u001b[0m\u001b[1;33m)\u001b[0m\u001b[1;33m\u001b[0m\u001b[1;33m\u001b[0m\u001b[0m\n\u001b[0m\u001b[0;32m     54\u001b[0m             \u001b[1;31m#model.fit(x_train,y[trainI])\u001b[0m\u001b[1;33m\u001b[0m\u001b[1;33m\u001b[0m\u001b[1;33m\u001b[0m\u001b[0m\n\u001b[0;32m     55\u001b[0m             \u001b[0mpredictions\u001b[0m \u001b[1;33m=\u001b[0m \u001b[0mmodel\u001b[0m\u001b[1;33m.\u001b[0m\u001b[0mpredict\u001b[0m\u001b[1;33m(\u001b[0m\u001b[0mX\u001b[0m\u001b[1;33m[\u001b[0m\u001b[0mtestI\u001b[0m\u001b[1;33m]\u001b[0m\u001b[1;33m)\u001b[0m\u001b[1;33m\u001b[0m\u001b[1;33m\u001b[0m\u001b[0m\n",
      "\u001b[1;32mc:\\python\\python37\\lib\\site-packages\\lightgbm\\sklearn.py\u001b[0m in \u001b[0;36mfit\u001b[1;34m(self, X, y, sample_weight, init_score, eval_set, eval_names, eval_sample_weight, eval_init_score, eval_metric, early_stopping_rounds, verbose, feature_name, categorical_feature, callbacks, init_model)\u001b[0m\n\u001b[0;32m    897\u001b[0m                     \u001b[0meval_init_score\u001b[0m\u001b[1;33m=\u001b[0m\u001b[0meval_init_score\u001b[0m\u001b[1;33m,\u001b[0m \u001b[0meval_metric\u001b[0m\u001b[1;33m=\u001b[0m\u001b[0meval_metric\u001b[0m\u001b[1;33m,\u001b[0m\u001b[1;33m\u001b[0m\u001b[1;33m\u001b[0m\u001b[0m\n\u001b[0;32m    898\u001b[0m                     \u001b[0mearly_stopping_rounds\u001b[0m\u001b[1;33m=\u001b[0m\u001b[0mearly_stopping_rounds\u001b[0m\u001b[1;33m,\u001b[0m \u001b[0mverbose\u001b[0m\u001b[1;33m=\u001b[0m\u001b[0mverbose\u001b[0m\u001b[1;33m,\u001b[0m \u001b[0mfeature_name\u001b[0m\u001b[1;33m=\u001b[0m\u001b[0mfeature_name\u001b[0m\u001b[1;33m,\u001b[0m\u001b[1;33m\u001b[0m\u001b[1;33m\u001b[0m\u001b[0m\n\u001b[1;32m--> 899\u001b[1;33m                     categorical_feature=categorical_feature, callbacks=callbacks, init_model=init_model)\n\u001b[0m\u001b[0;32m    900\u001b[0m         \u001b[1;32mreturn\u001b[0m \u001b[0mself\u001b[0m\u001b[1;33m\u001b[0m\u001b[1;33m\u001b[0m\u001b[0m\n\u001b[0;32m    901\u001b[0m \u001b[1;33m\u001b[0m\u001b[0m\n",
      "\u001b[1;32mc:\\python\\python37\\lib\\site-packages\\lightgbm\\sklearn.py\u001b[0m in \u001b[0;36mfit\u001b[1;34m(self, X, y, sample_weight, init_score, group, eval_set, eval_names, eval_sample_weight, eval_class_weight, eval_init_score, eval_group, eval_metric, early_stopping_rounds, verbose, feature_name, categorical_feature, callbacks, init_model)\u001b[0m\n\u001b[0;32m    656\u001b[0m \u001b[1;33m\u001b[0m\u001b[0m\n\u001b[0;32m    657\u001b[0m         \u001b[1;32mif\u001b[0m \u001b[1;32mnot\u001b[0m \u001b[0misinstance\u001b[0m\u001b[1;33m(\u001b[0m\u001b[0mX\u001b[0m\u001b[1;33m,\u001b[0m \u001b[1;33m(\u001b[0m\u001b[0mpd_DataFrame\u001b[0m\u001b[1;33m,\u001b[0m \u001b[0mdt_DataTable\u001b[0m\u001b[1;33m)\u001b[0m\u001b[1;33m)\u001b[0m\u001b[1;33m:\u001b[0m\u001b[1;33m\u001b[0m\u001b[1;33m\u001b[0m\u001b[0m\n\u001b[1;32m--> 658\u001b[1;33m             \u001b[0m_X\u001b[0m\u001b[1;33m,\u001b[0m \u001b[0m_y\u001b[0m \u001b[1;33m=\u001b[0m \u001b[0m_LGBMCheckXY\u001b[0m\u001b[1;33m(\u001b[0m\u001b[0mX\u001b[0m\u001b[1;33m,\u001b[0m \u001b[0my\u001b[0m\u001b[1;33m,\u001b[0m \u001b[0maccept_sparse\u001b[0m\u001b[1;33m=\u001b[0m\u001b[1;32mTrue\u001b[0m\u001b[1;33m,\u001b[0m \u001b[0mforce_all_finite\u001b[0m\u001b[1;33m=\u001b[0m\u001b[1;32mFalse\u001b[0m\u001b[1;33m,\u001b[0m \u001b[0mensure_min_samples\u001b[0m\u001b[1;33m=\u001b[0m\u001b[1;36m2\u001b[0m\u001b[1;33m)\u001b[0m\u001b[1;33m\u001b[0m\u001b[1;33m\u001b[0m\u001b[0m\n\u001b[0m\u001b[0;32m    659\u001b[0m             \u001b[1;32mif\u001b[0m \u001b[0msample_weight\u001b[0m \u001b[1;32mis\u001b[0m \u001b[1;32mnot\u001b[0m \u001b[1;32mNone\u001b[0m\u001b[1;33m:\u001b[0m\u001b[1;33m\u001b[0m\u001b[1;33m\u001b[0m\u001b[0m\n\u001b[0;32m    660\u001b[0m                 \u001b[0msample_weight\u001b[0m \u001b[1;33m=\u001b[0m \u001b[0m_LGBMCheckSampleWeight\u001b[0m\u001b[1;33m(\u001b[0m\u001b[0msample_weight\u001b[0m\u001b[1;33m,\u001b[0m \u001b[0m_X\u001b[0m\u001b[1;33m)\u001b[0m\u001b[1;33m\u001b[0m\u001b[1;33m\u001b[0m\u001b[0m\n",
      "\u001b[1;32mc:\\python\\python37\\lib\\site-packages\\sklearn\\utils\\validation.py\u001b[0m in \u001b[0;36mcheck_X_y\u001b[1;34m(X, y, accept_sparse, accept_large_sparse, dtype, order, copy, force_all_finite, ensure_2d, allow_nd, multi_output, ensure_min_samples, ensure_min_features, y_numeric, warn_on_dtype, estimator)\u001b[0m\n\u001b[0;32m    722\u001b[0m                         dtype=None)\n\u001b[0;32m    723\u001b[0m     \u001b[1;32melse\u001b[0m\u001b[1;33m:\u001b[0m\u001b[1;33m\u001b[0m\u001b[1;33m\u001b[0m\u001b[0m\n\u001b[1;32m--> 724\u001b[1;33m         \u001b[0my\u001b[0m \u001b[1;33m=\u001b[0m \u001b[0mcolumn_or_1d\u001b[0m\u001b[1;33m(\u001b[0m\u001b[0my\u001b[0m\u001b[1;33m,\u001b[0m \u001b[0mwarn\u001b[0m\u001b[1;33m=\u001b[0m\u001b[1;32mTrue\u001b[0m\u001b[1;33m)\u001b[0m\u001b[1;33m\u001b[0m\u001b[1;33m\u001b[0m\u001b[0m\n\u001b[0m\u001b[0;32m    725\u001b[0m         \u001b[0m_assert_all_finite\u001b[0m\u001b[1;33m(\u001b[0m\u001b[0my\u001b[0m\u001b[1;33m)\u001b[0m\u001b[1;33m\u001b[0m\u001b[1;33m\u001b[0m\u001b[0m\n\u001b[0;32m    726\u001b[0m     \u001b[1;32mif\u001b[0m \u001b[0my_numeric\u001b[0m \u001b[1;32mand\u001b[0m \u001b[0my\u001b[0m\u001b[1;33m.\u001b[0m\u001b[0mdtype\u001b[0m\u001b[1;33m.\u001b[0m\u001b[0mkind\u001b[0m \u001b[1;33m==\u001b[0m \u001b[1;34m'O'\u001b[0m\u001b[1;33m:\u001b[0m\u001b[1;33m\u001b[0m\u001b[1;33m\u001b[0m\u001b[0m\n",
      "\u001b[1;32mc:\\python\\python37\\lib\\site-packages\\sklearn\\utils\\validation.py\u001b[0m in \u001b[0;36mcolumn_or_1d\u001b[1;34m(y, warn)\u001b[0m\n\u001b[0;32m    758\u001b[0m         \u001b[1;32mreturn\u001b[0m \u001b[0mnp\u001b[0m\u001b[1;33m.\u001b[0m\u001b[0mravel\u001b[0m\u001b[1;33m(\u001b[0m\u001b[0my\u001b[0m\u001b[1;33m)\u001b[0m\u001b[1;33m\u001b[0m\u001b[1;33m\u001b[0m\u001b[0m\n\u001b[0;32m    759\u001b[0m \u001b[1;33m\u001b[0m\u001b[0m\n\u001b[1;32m--> 760\u001b[1;33m     \u001b[1;32mraise\u001b[0m \u001b[0mValueError\u001b[0m\u001b[1;33m(\u001b[0m\u001b[1;34m\"bad input shape {0}\"\u001b[0m\u001b[1;33m.\u001b[0m\u001b[0mformat\u001b[0m\u001b[1;33m(\u001b[0m\u001b[0mshape\u001b[0m\u001b[1;33m)\u001b[0m\u001b[1;33m)\u001b[0m\u001b[1;33m\u001b[0m\u001b[1;33m\u001b[0m\u001b[0m\n\u001b[0m\u001b[0;32m    761\u001b[0m \u001b[1;33m\u001b[0m\u001b[0m\n\u001b[0;32m    762\u001b[0m \u001b[1;33m\u001b[0m\u001b[0m\n",
      "\u001b[1;31mValueError\u001b[0m: bad input shape (34983, 48)"
     ]
    }
   ],
   "source": [
    "loadToModel(file_names, files_format, files_path, files_postfix, parameters)"
   ]
  },
  {
   "cell_type": "code",
   "execution_count": null,
   "metadata": {},
   "outputs": [],
   "source": []
  }
 ],
 "metadata": {
  "kernelspec": {
   "display_name": "Python 3",
   "language": "python",
   "name": "python3"
  },
  "language_info": {
   "codemirror_mode": {
    "name": "ipython",
    "version": 3
   },
   "file_extension": ".py",
   "mimetype": "text/x-python",
   "name": "python",
   "nbconvert_exporter": "python",
   "pygments_lexer": "ipython3",
   "version": "3.7.3"
  }
 },
 "nbformat": 4,
 "nbformat_minor": 2
}
