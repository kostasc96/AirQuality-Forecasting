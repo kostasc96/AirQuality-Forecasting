{
 "cells": [
  {
   "cell_type": "code",
   "execution_count": 54,
   "metadata": {},
   "outputs": [],
   "source": [
    "from tensorflow.keras.layers import Input, LSTM, GRU, SimpleRNN, Dense, GlobalMaxPool1D,Reshape,Dropout,Lambda\n",
    "# from tensorflow.keras.models import Model\n",
    "from tensorflow.keras.optimizers import SGD, Adam, RMSprop\n",
    "from tensorflow.keras import layers,models,Sequential\n",
    "# from tensorflow.keras import layers, models\n",
    "\n",
    "import numpy as np\n",
    "import pandas as pd\n",
    "import matplotlib.pyplot as plt\n",
    "from sklearn.preprocessing import StandardScaler\n",
    "from sklearn.model_selection import GridSearchCV\n",
    "import lightgbm as lgb\n",
    "from sklearn.metrics import accuracy_score\n",
    "from sklearn.model_selection import KFold\n",
    "from sklearn.ensemble import GradientBoostingRegressor\n",
    "\n",
    "from sklearn.model_selection import cross_val_score\n",
    "from lightgbm import LGBMClassifier\n",
    "from sklearn.model_selection import RepeatedStratifiedKFold\n",
    "from sklearn.model_selection import KFold\n",
    "from xgboost import XGBClassifier\n",
    "from sklearn.ensemble import RandomForestRegressor\n",
    "from sklearn.multioutput import MultiOutputRegressor\n",
    "from sklearn.ensemble import GradientBoostingRegressor\n",
    "from sklearn.preprocessing import LabelEncoder, MinMaxScaler"
   ]
  },
  {
   "cell_type": "code",
   "execution_count": 55,
   "metadata": {},
   "outputs": [],
   "source": [
    "files_path = 'CleanFiles/'\n",
    "files_format = '.csv'\n",
    "files_postfix = 'Extract'\n",
    "# file_names = ['AgiaParaskevi','Aristotelous','Athens','Elefsina','Koropi','Liosia',\n",
    "#               'Lykovrisi','Marousi','NeaSmirni','Patision','Peristeri',\n",
    "#               'Pireus','Thrakomakedones']\n",
    "file_names = ['Thrakomakedones']"
   ]
  },
  {
   "cell_type": "code",
   "execution_count": 56,
   "metadata": {},
   "outputs": [],
   "source": [
    "def pm10_index(val):\n",
    "    if val <= 25.0:\n",
    "        return 0\n",
    "    elif 26.0 <= val <= 50.0:\n",
    "        return 1\n",
    "    elif 51.0 <= val <= 90.0:\n",
    "        return 2\n",
    "    elif 91.0 <= val <= 180.0:\n",
    "        return 3\n",
    "    else:\n",
    "        return 4"
   ]
  },
  {
   "cell_type": "code",
   "execution_count": 57,
   "metadata": {},
   "outputs": [],
   "source": [
    "def get_time(tmp):\n",
    "    return tmp[11:13]"
   ]
  },
  {
   "cell_type": "code",
   "execution_count": 58,
   "metadata": {},
   "outputs": [],
   "source": [
    "def get_season(tmp):\n",
    "    if tmp == 'Spring':\n",
    "        return '1'\n",
    "    elif tmp == 'Spring/Summer':\n",
    "        return '2'\n",
    "    elif tmp == 'Summer':\n",
    "        return '3'\n",
    "    elif tmp == 'Summer/Autumn':\n",
    "        return '4'\n",
    "    elif tmp == 'Autumn':\n",
    "        return '5'\n",
    "    elif tmp == 'Autumn/Winter':\n",
    "        return '6'\n",
    "    elif tmp == 'Winter/Spring':\n",
    "        return '7'\n",
    "    else:\n",
    "        return '8'"
   ]
  },
  {
   "cell_type": "code",
   "execution_count": 59,
   "metadata": {},
   "outputs": [],
   "source": [
    "def get_winddir(tmp):\n",
    "    if tmp == 'N':\n",
    "        return '1'\n",
    "    elif tmp == 'NNE':\n",
    "        return '2'\n",
    "    elif tmp == 'NE':\n",
    "        return '3'\n",
    "    elif tmp == 'ENE':\n",
    "        return '4'\n",
    "    elif tmp == 'E':\n",
    "        return '5'\n",
    "    elif tmp == 'ESE':\n",
    "        return '6'\n",
    "    elif tmp == 'SE':\n",
    "        return '7'\n",
    "    elif tmp == 'SSE':\n",
    "        return '8'\n",
    "    elif tmp == 'S':\n",
    "        return '9'\n",
    "    elif tmp == 'SSW':\n",
    "        return '10'\n",
    "    elif tmp == 'SW':\n",
    "        return '11'\n",
    "    elif tmp == 'WSW':\n",
    "        return '12'\n",
    "    elif tmp == 'W':\n",
    "        return '13'\n",
    "    elif tmp == 'WNW':\n",
    "        return '14'\n",
    "    elif tmp == 'NW':\n",
    "        return '15'\n",
    "    else:\n",
    "        return '16'"
   ]
  },
  {
   "cell_type": "code",
   "execution_count": 60,
   "metadata": {},
   "outputs": [],
   "source": [
    "#neasmirni = pd.read_csv('CleanFiles/NeaSmirniExtract.csv', sep=',')\n",
    "#neasmirni = neasmirni[['date_time','station_id','season','real_temp','real_windspd','real_winddir','real_humidity','forecast_tempC','forecast_windSpeed','forecast_windDirection','forecast_humidity','pm10']]\n",
    "#neasmirni['pm10'] = neasmirni['pm10'].map(lambda a: pm10_index(a))\n",
    "#temp = pd.read_csv('CleanFiles/PeristeriExtract.csv', sep=',')\n",
    "#agiaparaskevi = pd.read_csv('CleanFiles/AgiaParaskeviExtract.csv', sep=',')"
   ]
  },
  {
   "cell_type": "code",
   "execution_count": 61,
   "metadata": {},
   "outputs": [],
   "source": [
    "# T = 72\n",
    "# D = 1\n",
    "# X = []\n",
    "# Y = []\n",
    "# for t in range(len(neasmirni) - T):\n",
    "#     x = neasmirni[t:t+T]\n",
    "#     X.append(x)\n",
    "#     y = neasmirni[t:t+T]\n",
    "#     Y.append(y)"
   ]
  },
  {
   "cell_type": "code",
   "execution_count": 62,
   "metadata": {},
   "outputs": [],
   "source": [
    "def create_xy(series, series2, window_size, prediction_horizon, shuffle = False):\n",
    "    x = []\n",
    "    y = []\n",
    "    for i in range(0, len(series)):\n",
    "        if len(series[(i + window_size):(i + window_size + prediction_horizon)]) < prediction_horizon:\n",
    "            break\n",
    "        x.append(np.array(series[i:(i + window_size)]))\n",
    "        y.append(np.array(series2[(i + window_size):(i + window_size + prediction_horizon)]))\n",
    "#         x.append(np.array(series[i:i+window_size][['station_id','season','real_temp','real_humidity','real_windspd','real_winddir','forecast_tempC','forecast_humidity','forecast_windSpeed','forecast_windDirection']]))\n",
    "#         y.append(np.array(series[i+window_size:i+window_size+prediction_horizon]['pm10']))\n",
    "    x = np.array(x)\n",
    "    y = np.array(y)\n",
    "    return x,y"
   ]
  },
  {
   "cell_type": "code",
   "execution_count": 63,
   "metadata": {},
   "outputs": [],
   "source": [
    "parameters = {\n",
    "    'n_estimators': 2000,\n",
    "    'max_depth': 4,\n",
    "    'num_leaves': 2**4,\n",
    "    'learning_rate': 0.1,\n",
    "    'boosting_type': 'dart'\n",
    "}"
   ]
  },
  {
   "cell_type": "code",
   "execution_count": 64,
   "metadata": {},
   "outputs": [],
   "source": [
    "def smape(actual, predicted):\n",
    "    if not all([isinstance(actual, np.ndarray), \n",
    "                isinstance(predicted, np.ndarray)]):\n",
    "        actual, predicted = np.array(actual),\n",
    "        np.array(predicted)\n",
    "  \n",
    "    return round(\n",
    "        np.mean(\n",
    "            np.abs(predicted - actual) / \n",
    "            ((np.abs(predicted) + np.abs(actual))/2)\n",
    "        )*100, 2\n",
    "    )"
   ]
  },
  {
   "cell_type": "code",
   "execution_count": 65,
   "metadata": {},
   "outputs": [],
   "source": [
    "def gru(units,drop,features, window, horizon):\n",
    "    encoder_inputs = layers.Input(shape=(window,features))\n",
    "    encoder = GRU(units, dropout=drop,return_state=True)\n",
    "    _,encoder_states = encoder(encoder_inputs)\n",
    "    decoder=layers.RepeatVector(horizon)(encoder_states)\n",
    "    out = layers.TimeDistributed(Dense(1))(decoder)\n",
    "    model = models.Model(encoder_inputs, out)\n",
    "    model.compile(loss='mse', optimizer=RMSprop())\n",
    "    return model"
   ]
  },
  {
   "cell_type": "code",
   "execution_count": 72,
   "metadata": {},
   "outputs": [],
   "source": [
    "def seq2seq(window, horizon, units,bn,drop,feautures,channel=1):\n",
    "    encoder_inputs = layers.Input(shape=(window,feautures))\n",
    "\n",
    "    encoder = GRU(units, dropout=drop,return_state=True)\n",
    "    _,encoder_states = encoder(encoder_inputs)\n",
    "    if bn:\n",
    "        encoder_states=layers.BatchNormalization()(encoder_states)\n",
    "    decoder=layers.RepeatVector(horizon)(encoder_states)\n",
    "    decoder_gru = GRU(units, dropout=drop, return_sequences=True, return_state=False)\n",
    "    decoder = decoder_gru(decoder, initial_state=encoder_states)\n",
    "    \n",
    "    out = layers.TimeDistributed(Dense(channel))(decoder)\n",
    "    model = models.Model(encoder_inputs, out)\n",
    "    model.compile(loss='mse', optimizer=RMSprop(),metrics=['mean_squared_error'])\n",
    "    return model"
   ]
  },
  {
   "cell_type": "code",
   "execution_count": 81,
   "metadata": {},
   "outputs": [],
   "source": [
    "def gatedDNN(features, horizon):\n",
    "#     model = Sequential()\n",
    "#     model.add(layers.Input(shape=(72,features)))\n",
    "#     model.add(layers.Dense(2, activation='relu'))\n",
    "#     model.compile(loss='mean_squared_error', optimizer='adam')\n",
    "#     return model\n",
    "\n",
    "    model = Sequential([\n",
    "    Lambda(lambda x: x[:, -1:, :]),\n",
    "    Dense(50, activation='relu'),\n",
    "    Dense(horizon*1),\n",
    "    Reshape([horizon, 1])\n",
    "    ])\n",
    "    model.compile(loss='mse', optimizer=RMSprop(),metrics=['mean_squared_error'])\n",
    "    return model"
   ]
  },
  {
   "cell_type": "code",
   "execution_count": 82,
   "metadata": {},
   "outputs": [],
   "source": [
    "def lstm(features, window, horizon):\n",
    "    model = Sequential([\n",
    "    LSTM(10, input_shape=(window, features), return_sequences=True),\n",
    "    Dropout(0.5),\n",
    "    LSTM(10, return_sequences=True),\n",
    "    Dense(horizon),\n",
    "    Reshape([horizon, 1])\n",
    "    ])\n",
    "    \n",
    "    model.compile(optimizer=RMSprop(), loss='mse', metrics=['mean_squared_error'])\n",
    "    return model"
   ]
  },
  {
   "cell_type": "code",
   "execution_count": 83,
   "metadata": {},
   "outputs": [],
   "source": [
    "def loadToModel(files, formating, pathFiles, postfx, params, predicts):\n",
    "    T = 72\n",
    "    D = 1\n",
    "    X = []\n",
    "    Y = []\n",
    "    for fileName in files:\n",
    "        window = 72 \n",
    "        horizon = 48\n",
    "        accuracy = 0\n",
    "        #df = pd.read_csv(pathFiles + fileName + postfx + formating, sep=',')\n",
    "        df = pd.read_csv(pathFiles + fileName + formating, sep=',')\n",
    "        \n",
    "        #df['pm10'] = df['pm10'].map(lambda a: pm10_index(a))\n",
    "        #df['pm10'] = df['pm10'].astype(int)\n",
    "        \n",
    "        df['date_time'] = df['date_time'].astype(\"|S\")\n",
    "        df['season'] = df['season'].astype(\"|S\")\n",
    "        \n",
    "        #df['forecast_windDirection'] = df['forecast_windDirection'].astype(\"|S\")\n",
    "        #df['real_winddir'] = df['real_winddir'].astype(\"|S\")\n",
    "        df['date_time'] = df['date_time'].map(lambda a: get_time(a))\n",
    "        df['date_time'] = df['date_time'].astype(np.float64)\n",
    "        df['season'] = df['season'].map(lambda a: get_season(a))\n",
    "        df['season'] = df['season'].astype(np.float64)\n",
    "        \n",
    "        #df['forecast_windDirection'] = df['forecast_windDirection'].map(lambda a: get_winddir(a))\n",
    "        \n",
    "        df['forecast_windDirection'] = df['forecast_windDirection'].astype(np.float64)\n",
    "        \n",
    "        #df['real_winddir'] = df['real_winddir'].map(lambda a: get_winddir(a))\n",
    "        #df['real_winddir'] = df['real_winddir'].astype(np.float64)\n",
    "        #df['pm10'] = df['pm10'].astype('int')\n",
    "        \n",
    "        df['station_id'] = df['station_id'].astype(int)\n",
    "#         df['forecast_tempC'] = df['forecast_tempC'].astype(np.float64)\n",
    "#         df['forecast_humidity'] = df['forecast_humidity'].astype(np.float64)\n",
    "#         df['forecast_windSpeed'] = df['forecast_windSpeed'].astype(np.float64)\n",
    "\n",
    "        scaler = MinMaxScaler(feature_range=(0, 1))\n",
    "        names = ['forecast_tempC','forecast_humidity','forecast_windSpeed','forecast_windDirection','pm10']\n",
    "        d = scaler.fit_transform(df)\n",
    "        df = pd.DataFrame(df, columns=names)\n",
    "        \n",
    "\n",
    "        X,y = create_xy(df[['forecast_tempC','forecast_humidity','forecast_windSpeed','forecast_windDirection','pm10']],df[['pm10']],window, horizon)\n",
    "        accuracy = 0.0\n",
    "        print(fileName + ' begins prediction')\n",
    "#        model = GradientBoostingRegressor(learning_rate=0.05,max_features=0.6,max_leaf_nodes=31,n_estimators=200)\n",
    "#         model = seq2seq(72,48,5,False,0.5,5,1)\n",
    "#         model = lstm(5)\n",
    "        model = gatedDNN(5, 48)\n",
    "#        model.compile(optimizer=RMSprop(), loss='mse')\n",
    "        \n",
    "#         model = MultiOutputRegressor(gbm,-1)\n",
    "#         model = lgb.LGBMRegressor()\n",
    "#         model = XGBClassifier()\n",
    "#         model = XGBClassifier(gamma=0.1, max_depth=50, n_estimators=80, learning_rate=0.1, colsample_bytree=.7, reg_alpha=4, objective='binary:logistic', eta=0.3, silent=1, subsample=0.8)\n",
    "        \n",
    "        kf = KFold(n_splits=5)\n",
    "\n",
    "#         nsamples, nx, ny = np.array(X).shape\n",
    "#         X = X.reshape((nsamples,nx*ny))\n",
    "#         nsamples2, nx2 = np.array(y).shape\n",
    "#         y = y.reshape((nsamples2,nx2))\n",
    "\n",
    "        print(X.shape)\n",
    "        print(y.shape)\n",
    "        \n",
    "#         epochs = 2\n",
    "#         batch_size = 32\n",
    "\n",
    "        for trainI,testI in kf.split(X):\n",
    "            model.fit(X[trainI],y[trainI])\n",
    "            predictions = model.predict(X[testI])\n",
    "            predicts.append(predictions)\n",
    "#             print(\"*************\")\n",
    "#             print(y[testI])\n",
    "#            accuracy += accuracy_score(y[testI], predictions)\n",
    "        \n",
    "#         _, test_acc = model.evaluate(X,y,verbose=0)\n",
    "#         accuracy = test_acc\n",
    "#         print('Accuracy ' + fileName + ': %.3f' % (accuracy/5))"
   ]
  },
  {
   "cell_type": "code",
   "execution_count": 84,
   "metadata": {},
   "outputs": [],
   "source": [
    "predicts = []"
   ]
  },
  {
   "cell_type": "code",
   "execution_count": 85,
   "metadata": {
    "scrolled": true
   },
   "outputs": [
    {
     "name": "stdout",
     "output_type": "stream",
     "text": [
      "Thrakomakedones begins prediction\n",
      "(43729, 72, 5)\n",
      "(43729, 48, 1)\n",
      "Train on 34983 samples\n",
      "34983/34983 [==============================] - 2s 60us/sample - loss: 205.1813 - mean_squared_error: 205.1812\n",
      "Train on 34983 samples\n",
      "34983/34983 [==============================] - 3s 82us/sample - loss: 283.8476 - mean_squared_error: 283.8476\n",
      "Train on 34983 samples\n",
      "34983/34983 [==============================] - 4s 117us/sample - loss: 222.6021 - mean_squared_error: 222.6019\n",
      "Train on 34983 samples\n",
      "34983/34983 [==============================] - 3s 100us/sample - loss: 253.1051 - mean_squared_error: 253.1051\n",
      "Train on 34984 samples\n",
      "34984/34984 [==============================] - 4s 115us/sample - loss: 277.8092 - mean_squared_error: 277.8092\n"
     ]
    }
   ],
   "source": [
    "loadToModel(file_names, files_format, files_path, files_postfix, parameters,predicts)"
   ]
  }
 ],
 "metadata": {
  "kernelspec": {
   "display_name": "Python 3",
   "language": "python",
   "name": "python3"
  },
  "language_info": {
   "codemirror_mode": {
    "name": "ipython",
    "version": 3
   },
   "file_extension": ".py",
   "mimetype": "text/x-python",
   "name": "python",
   "nbconvert_exporter": "python",
   "pygments_lexer": "ipython3",
   "version": "3.7.3"
  }
 },
 "nbformat": 4,
 "nbformat_minor": 2
}
