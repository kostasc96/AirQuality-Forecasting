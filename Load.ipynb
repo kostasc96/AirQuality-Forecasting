{
 "cells": [
  {
   "cell_type": "code",
   "execution_count": 132,
   "metadata": {},
   "outputs": [],
   "source": [
    "from tensorflow.keras.layers import Input, LSTM, GRU, SimpleRNN, Dense, GlobalMaxPool1D,Reshape,Dropout,Lambda\n",
    "from tensorflow.keras.optimizers import SGD, Adam, RMSprop\n",
    "from tensorflow.keras import layers,models,Sequential\n",
    "from sklearn.model_selection import train_test_split\n",
    "from tensorflow.keras.layers import LeakyReLU\n",
    "\n",
    "import numpy as np\n",
    "import pandas as pd\n",
    "# import matplotlib.pyplot as plt\n",
    "from sklearn.preprocessing import StandardScaler\n",
    "from sklearn.model_selection import GridSearchCV\n",
    "import lightgbm as lgb\n",
    "from sklearn.metrics import accuracy_score\n",
    "from sklearn.model_selection import KFold\n",
    "from sklearn.ensemble import GradientBoostingRegressor\n",
    "\n",
    "from sklearn.model_selection import cross_val_score\n",
    "# from lightgbm import LGBMClassifier\n",
    "from sklearn.model_selection import RepeatedStratifiedKFold\n",
    "from sklearn.model_selection import KFold\n",
    "# from xgboost import XGBClassifier\n",
    "from sklearn.ensemble import RandomForestRegressor\n",
    "from sklearn.multioutput import MultiOutputRegressor\n",
    "from sklearn.ensemble import GradientBoostingRegressor\n",
    "from sklearn.preprocessing import LabelEncoder, MinMaxScaler"
   ]
  },
  {
   "cell_type": "code",
   "execution_count": 133,
   "metadata": {},
   "outputs": [],
   "source": [
    "files_path = 'CleanFiles/'\n",
    "files_format = '.csv'\n",
    "files_postfix = 'Extract'\n",
    "# file_names = ['AgiaParaskevi','Aristotelous','Elefsina',\n",
    "#               'Lykovrisi','Marousi','NeaSmirni','Peristeri',\n",
    "#               'Pireus','Thrakomakedones']\n",
    "file_names = ['NeaSmirni']"
   ]
  },
  {
   "cell_type": "code",
   "execution_count": 134,
   "metadata": {},
   "outputs": [],
   "source": [
    "def pm10_index(val):\n",
    "    if val <= 25.0:\n",
    "        return 0\n",
    "    elif 26.0 <= val <= 50.0:\n",
    "        return 1\n",
    "    elif 51.0 <= val <= 90.0:\n",
    "        return 2\n",
    "    elif 91.0 <= val <= 180.0:\n",
    "        return 3\n",
    "    else:\n",
    "        return 4"
   ]
  },
  {
   "cell_type": "code",
   "execution_count": 135,
   "metadata": {},
   "outputs": [],
   "source": [
    "def get_time(tmp):\n",
    "    return tmp[11:13]"
   ]
  },
  {
   "cell_type": "code",
   "execution_count": 136,
   "metadata": {},
   "outputs": [],
   "source": [
    "def get_season(tmp):\n",
    "    if tmp == 'Spring':\n",
    "        return '1'\n",
    "    elif tmp == 'Spring/Summer':\n",
    "        return '2'\n",
    "    elif tmp == 'Summer':\n",
    "        return '3'\n",
    "    elif tmp == 'Summer/Autumn':\n",
    "        return '4'\n",
    "    elif tmp == 'Autumn':\n",
    "        return '5'\n",
    "    elif tmp == 'Autumn/Winter':\n",
    "        return '6'\n",
    "    elif tmp == 'Winter/Spring':\n",
    "        return '7'\n",
    "    else:\n",
    "        return '8'"
   ]
  },
  {
   "cell_type": "code",
   "execution_count": 137,
   "metadata": {},
   "outputs": [],
   "source": [
    "def get_winddir(tmp):\n",
    "    if tmp == 'N':\n",
    "        return '1'\n",
    "    elif tmp == 'NNE':\n",
    "        return '2'\n",
    "    elif tmp == 'NE':\n",
    "        return '3'\n",
    "    elif tmp == 'ENE':\n",
    "        return '4'\n",
    "    elif tmp == 'E':\n",
    "        return '5'\n",
    "    elif tmp == 'ESE':\n",
    "        return '6'\n",
    "    elif tmp == 'SE':\n",
    "        return '7'\n",
    "    elif tmp == 'SSE':\n",
    "        return '8'\n",
    "    elif tmp == 'S':\n",
    "        return '9'\n",
    "    elif tmp == 'SSW':\n",
    "        return '10'\n",
    "    elif tmp == 'SW':\n",
    "        return '11'\n",
    "    elif tmp == 'WSW':\n",
    "        return '12'\n",
    "    elif tmp == 'W':\n",
    "        return '13'\n",
    "    elif tmp == 'WNW':\n",
    "        return '14'\n",
    "    elif tmp == 'NW':\n",
    "        return '15'\n",
    "    else:\n",
    "        return '16'"
   ]
  },
  {
   "cell_type": "code",
   "execution_count": 138,
   "metadata": {},
   "outputs": [],
   "source": [
    "#neasmirni = pd.read_csv('CleanFiles/NeaSmirniExtract.csv', sep=',')\n",
    "#neasmirni = neasmirni[['date_time','station_id','season','real_temp','real_windspd','real_winddir','real_humidity','forecast_tempC','forecast_windSpeed','forecast_windDirection','forecast_humidity','pm10']]\n",
    "#neasmirni['pm10'] = neasmirni['pm10'].map(lambda a: pm10_index(a))\n",
    "#temp = pd.read_csv('CleanFiles/PeristeriExtract.csv', sep=',')\n",
    "#agiaparaskevi = pd.read_csv('CleanFiles/AgiaParaskeviExtract.csv', sep=',')"
   ]
  },
  {
   "cell_type": "code",
   "execution_count": 139,
   "metadata": {},
   "outputs": [],
   "source": [
    "# T = 72\n",
    "# D = 1\n",
    "# X = []\n",
    "# Y = []\n",
    "# for t in range(len(neasmirni) - T):\n",
    "#     x = neasmirni[t:t+T]\n",
    "#     X.append(x)\n",
    "#     y = neasmirni[t:t+T]\n",
    "#     Y.append(y)"
   ]
  },
  {
   "cell_type": "code",
   "execution_count": 140,
   "metadata": {},
   "outputs": [],
   "source": [
    "def create_xy(series, series2, window_size, prediction_horizon, shuffle = False):\n",
    "    x = []\n",
    "    y = []\n",
    "    for i in range(0, len(series)):\n",
    "        if len(series[(i + window_size):(i + window_size + prediction_horizon)]) < prediction_horizon:\n",
    "            break\n",
    "        x.append(np.array(series[i:(i + window_size)]))\n",
    "        y.append(np.array(series2[(i + window_size):(i + window_size + prediction_horizon)]))\n",
    "    x = np.array(x)\n",
    "    y = np.array(y)\n",
    "    return x,y"
   ]
  },
  {
   "cell_type": "code",
   "execution_count": 141,
   "metadata": {},
   "outputs": [],
   "source": [
    "parameters = {\n",
    "    'n_estimators': 2000,\n",
    "    'max_depth': 4,\n",
    "    'num_leaves': 2**4,\n",
    "    'learning_rate': 0.1,\n",
    "    'boosting_type': 'dart'\n",
    "}"
   ]
  },
  {
   "cell_type": "code",
   "execution_count": 142,
   "metadata": {},
   "outputs": [],
   "source": [
    "def smape(actual, predicted):\n",
    "    if not all([isinstance(actual, np.ndarray), \n",
    "                isinstance(predicted, np.ndarray)]):\n",
    "        actual, predicted = np.array(actual),\n",
    "        np.array(predicted)\n",
    "  \n",
    "    return round(\n",
    "        np.mean(\n",
    "            np.abs(predicted - actual) / \n",
    "            ((np.abs(predicted) + np.abs(actual))/2)\n",
    "        )*100, 2\n",
    "    )"
   ]
  },
  {
   "cell_type": "code",
   "execution_count": 143,
   "metadata": {},
   "outputs": [],
   "source": [
    "def gru(units,drop,features, window, horizon):\n",
    "    encoder_inputs = layers.Input(shape=(window,features))\n",
    "    encoder = GRU(units, dropout=drop,return_state=True)\n",
    "    _,encoder_states = encoder(encoder_inputs)\n",
    "    decoder=layers.RepeatVector(horizon)(encoder_states)\n",
    "    out = layers.TimeDistributed(Dense(1))(decoder)\n",
    "    model = models.Model(encoder_inputs, out)\n",
    "    model.compile(loss='mse', optimizer=RMSprop())\n",
    "    return model"
   ]
  },
  {
   "cell_type": "code",
   "execution_count": 144,
   "metadata": {},
   "outputs": [],
   "source": [
    "def seq2seq(window, horizon, units,bn,drop,feautures,channel=1):\n",
    "    encoder_inputs = layers.Input(shape=(window,feautures))\n",
    "\n",
    "    encoder = GRU(units, dropout=drop,return_state=True)\n",
    "    _,encoder_states = encoder(encoder_inputs)\n",
    "    if bn:\n",
    "        encoder_states=layers.BatchNormalization()(encoder_states)\n",
    "    decoder=layers.RepeatVector(horizon)(encoder_states)\n",
    "    decoder_gru = GRU(units, dropout=drop, return_sequences=True, return_state=False)\n",
    "    decoder = decoder_gru(decoder, initial_state=encoder_states)\n",
    "    \n",
    "    out = layers.TimeDistributed(Dense(channel,use_bias=True))(decoder)\n",
    "    model = models.Model(encoder_inputs, out)\n",
    "    model.compile(loss='mse', optimizer=RMSprop(),metrics=['mean_squared_error'])\n",
    "    return model"
   ]
  },
  {
   "cell_type": "code",
   "execution_count": 322,
   "metadata": {},
   "outputs": [],
   "source": [
    "def gatedDNN(units,features, horizon):\n",
    "#     model = Sequential()\n",
    "#     model.add(layers.Input(shape=(72,features)))\n",
    "#     model.add(layers.Dense(2, activation='relu'))\n",
    "#     model.compile(loss='mean_squared_error', optimizer='adam')\n",
    "#     return model\n",
    "\n",
    "    model = Sequential([\n",
    "    Lambda(lambda x: x[:, -1:, :]),\n",
    "    Dense(units, activation='relu',use_bias=True),\n",
    "    Dense(horizon*1),\n",
    "    Reshape([horizon, 1])\n",
    "    ])\n",
    "    model.add(LeakyReLU(alpha=0.01))\n",
    "    model.compile(loss='mse', optimizer=RMSprop(),metrics=['mean_squared_error'])\n",
    "    return model"
   ]
  },
  {
   "cell_type": "code",
   "execution_count": 323,
   "metadata": {},
   "outputs": [],
   "source": [
    "def lstm(features, window, horizon):\n",
    "    model = Sequential([\n",
    "    LSTM(10, input_shape=(window, features), return_sequences=True),\n",
    "    Dropout(0.5),\n",
    "    LSTM(10, return_sequences=True),\n",
    "    Dense(horizon),\n",
    "    Reshape([horizon, 1])\n",
    "    ])\n",
    "    \n",
    "    model.compile(optimizer=RMSprop(), loss='mse', metrics=['mean_squared_error'])\n",
    "    return model"
   ]
  },
  {
   "cell_type": "code",
   "execution_count": 324,
   "metadata": {},
   "outputs": [],
   "source": [
    "def lightgbm():\n",
    "    model = lgb.LGBMRegressor(first_metric_only = True)\n",
    "    return model"
   ]
  },
  {
   "cell_type": "code",
   "execution_count": 340,
   "metadata": {},
   "outputs": [],
   "source": [
    "def loadToModel(files, formating, pathFiles, postfx, params):\n",
    "    T = 72\n",
    "    D = 1\n",
    "    X = []\n",
    "    Y = []\n",
    "    for fileName in files:\n",
    "        window = 72 \n",
    "        horizon = 48\n",
    "        accuracy = 0\n",
    "        #df = pd.read_csv(pathFiles + fileName + postfx + formating, sep=',')\n",
    "        df = pd.read_csv(pathFiles + fileName + formating, sep=',')\n",
    "        df['date_time'] = df['date_time'].astype(\"|S\")\n",
    "        df['season'] = df['season'].astype(\"|S\")\n",
    "        df['date_time'] = df['date_time'].map(lambda a: get_time(a))\n",
    "        df['date_time'] = df['date_time'].astype(int)\n",
    "        df['season'] = df['season'].map(lambda a: get_season(a))\n",
    "        df['season'] = df['season'].astype(np.float64)\n",
    "        df['forecast_windDirection'] = df['forecast_windDirection'].astype(np.float64)\n",
    "        df['station_id'] = df['station_id'].astype(int)\n",
    "        df2 = df[['pm10']]\n",
    "\n",
    "        scaler = MinMaxScaler(feature_range=(-3, 3))\n",
    "        names = ['forecast_tempC','forecast_humidity','forecast_windSpeed','forecast_windDirection','pm10']\n",
    "        df[['forecast_tempC','forecast_humidity','forecast_windSpeed','forecast_windDirection','pm10']] = scaler.fit_transform(df[['forecast_tempC','forecast_humidity','forecast_windSpeed','forecast_windDirection','pm10']])\n",
    "        \n",
    "        \n",
    "        scaler1 = MinMaxScaler(feature_range=(-3, 3))\n",
    "        df2 = scaler1.fit_transform(df2.values)\n",
    "        \n",
    "\n",
    "        X,y = create_xy(df[['station_id','date_time','forecast_tempC','forecast_humidity','forecast_windSpeed','forecast_windDirection','pm10']],df2,window, horizon)\n",
    "        accuracy = 0.0\n",
    "        \n",
    "        print(fileName + ' begins prediction')\n",
    "#         model = seq2seq(72,48,50,True,0.5,7,1)\n",
    "#         model = gru(5,0.5,7, 72, 48)\n",
    "#         model = lstm(5, window, horizon)\n",
    "#         model = lightgbm()\n",
    "        model = gatedDNN(100,7, horizon)\n",
    "\n",
    "        kf = KFold(n_splits=5)\n",
    "\n",
    "#         print(X.shape)\n",
    "#         print(y.shape)\n",
    "        \n",
    "        epochs = 2\n",
    "        batch_size = 32\n",
    "\n",
    "        predicts = []\n",
    "        tests = []\n",
    "#         for trainI,testI in kf.split(X):\n",
    "#             model.fit(X[trainI],y[trainI], epochs=epochs, batch_size=batch_size)\n",
    "#             predictions = model.predict(X[testI])\n",
    "#             predictions = scaler.inverse_transform(predictions.reshape(-1,1)).reshape(predictions.shape)\n",
    "#             predicts.append(predictions)\n",
    "#             tests.append(y[testI])\n",
    "\n",
    "        X_train, X_test, y_train, y_test = train_test_split(X, y, test_size=0.33, random_state=42)\n",
    "        model.fit(X_train,y_train, epochs=epochs, batch_size=batch_size)\n",
    "        predictions = model.predict(X_test)\n",
    "        predictions = scaler1.inverse_transform(predictions.reshape(-1,1)).reshape(predictions.shape)\n",
    "        y_test = scaler1.inverse_transform(y_test.reshape(-1,1)).reshape(y_test.shape)\n",
    "\n",
    "        return predictions, y_test"
   ]
  },
  {
   "cell_type": "code",
   "execution_count": 341,
   "metadata": {
    "scrolled": true
   },
   "outputs": [
    {
     "name": "stdout",
     "output_type": "stream",
     "text": [
      "NeaSmirni begins prediction\n",
      "Train on 29298 samples\n",
      "Epoch 1/2\n",
      "29298/29298 [==============================] - 3s 88us/sample - loss: 2.1468 - mean_squared_error: 2.1468\n",
      "Epoch 2/2\n",
      "29298/29298 [==============================] - 2s 56us/sample - loss: 0.0340 - mean_squared_error: 0.0340\n"
     ]
    }
   ],
   "source": [
    "predicts, test = loadToModel(file_names, files_format, files_path, files_postfix, parameters)"
   ]
  },
  {
   "cell_type": "code",
   "execution_count": 348,
   "metadata": {
    "scrolled": true
   },
   "outputs": [
    {
     "data": {
      "text/plain": [
       "array([[52.91906 ],\n",
       "       [51.7803  ],\n",
       "       [50.801727],\n",
       "       [51.708748],\n",
       "       [51.713516],\n",
       "       [51.939613],\n",
       "       [52.33953 ],\n",
       "       [52.28025 ],\n",
       "       [51.919075],\n",
       "       [51.824688],\n",
       "       [51.551647],\n",
       "       [52.246624],\n",
       "       [52.86016 ],\n",
       "       [53.650223],\n",
       "       [54.5363  ],\n",
       "       [56.23464 ],\n",
       "       [56.345196],\n",
       "       [57.453125],\n",
       "       [58.06142 ],\n",
       "       [58.107582],\n",
       "       [58.318638],\n",
       "       [58.231785],\n",
       "       [56.583363],\n",
       "       [55.47372 ],\n",
       "       [52.9745  ],\n",
       "       [51.740917],\n",
       "       [51.498913],\n",
       "       [52.373825],\n",
       "       [52.79771 ],\n",
       "       [53.191868],\n",
       "       [53.40144 ],\n",
       "       [54.242958],\n",
       "       [53.343353],\n",
       "       [51.93615 ],\n",
       "       [52.259975],\n",
       "       [52.198864],\n",
       "       [52.98404 ],\n",
       "       [53.808746],\n",
       "       [54.69078 ],\n",
       "       [55.534687],\n",
       "       [56.590923],\n",
       "       [58.12998 ],\n",
       "       [59.63675 ],\n",
       "       [58.59895 ],\n",
       "       [58.15933 ],\n",
       "       [57.593845],\n",
       "       [56.055927],\n",
       "       [55.121796]], dtype=float32)"
      ]
     },
     "execution_count": 348,
     "metadata": {},
     "output_type": "execute_result"
    }
   ],
   "source": [
    "predicts[100]"
   ]
  },
  {
   "cell_type": "code",
   "execution_count": 349,
   "metadata": {},
   "outputs": [
    {
     "data": {
      "text/plain": [
       "array([[ 72.],\n",
       "       [ 66.],\n",
       "       [ 52.],\n",
       "       [ 39.],\n",
       "       [ 33.],\n",
       "       [ 42.],\n",
       "       [ 45.],\n",
       "       [ 42.],\n",
       "       [ 70.],\n",
       "       [ 56.],\n",
       "       [ 39.],\n",
       "       [ 27.],\n",
       "       [ 38.],\n",
       "       [ 37.],\n",
       "       [ 43.],\n",
       "       [ 41.],\n",
       "       [ 36.],\n",
       "       [ 42.],\n",
       "       [ 43.],\n",
       "       [ 39.],\n",
       "       [ 37.],\n",
       "       [ 35.],\n",
       "       [ 35.],\n",
       "       [ 31.],\n",
       "       [ 35.],\n",
       "       [ 41.],\n",
       "       [ 75.],\n",
       "       [135.],\n",
       "       [ 62.],\n",
       "       [ 17.],\n",
       "       [ 12.],\n",
       "       [ 19.],\n",
       "       [ 21.],\n",
       "       [ 25.],\n",
       "       [ 20.],\n",
       "       [ 22.],\n",
       "       [ 23.],\n",
       "       [ 25.],\n",
       "       [ 21.],\n",
       "       [ 20.],\n",
       "       [ 20.],\n",
       "       [ 30.],\n",
       "       [ 24.],\n",
       "       [ 17.],\n",
       "       [ 40.],\n",
       "       [ 62.],\n",
       "       [ 41.],\n",
       "       [ 56.]])"
      ]
     },
     "execution_count": 349,
     "metadata": {},
     "output_type": "execute_result"
    }
   ],
   "source": [
    "test[100]"
   ]
  },
  {
   "cell_type": "code",
   "execution_count": 344,
   "metadata": {},
   "outputs": [
    {
     "name": "stdout",
     "output_type": "stream",
     "text": [
      "5.7320137\n",
      "0.0\n",
      "242.79451\n",
      "732.0\n"
     ]
    }
   ],
   "source": [
    "print(np.amin(predicts))\n",
    "print(np.amin(test))\n",
    "print(np.amax(predicts))\n",
    "print(np.amax(test))"
   ]
  },
  {
   "cell_type": "code",
   "execution_count": 71,
   "metadata": {},
   "outputs": [],
   "source": [
    "import matplotlib as mpl\n",
    "from mpl_toolkits.mplot3d import Axes3D\n",
    "import matplotlib.pyplot as plt"
   ]
  },
  {
   "cell_type": "code",
   "execution_count": null,
   "metadata": {},
   "outputs": [],
   "source": [
    "def return_axes(df):\n",
    "    x = np.arange(df.shape[0])[:, None, None]\n",
    "    y = np.arange(df.shape[1])[None, :, None]\n",
    "    z = np.arange(df.shape[2])[None, None, :]\n",
    "    x, y, z = np.broadcast_arrays(x, y, z)\n",
    "    return x,y,z"
   ]
  },
  {
   "cell_type": "code",
   "execution_count": null,
   "metadata": {},
   "outputs": [],
   "source": [
    "# x, y, z = return_axes(predicts)\n",
    "# fig = plt.figure()\n",
    "# ax = fig.gca(projection='3d')\n",
    "# ax.scatter(x.ravel(),\n",
    "#            y.ravel(),\n",
    "#            z.ravel())"
   ]
  },
  {
   "cell_type": "code",
   "execution_count": null,
   "metadata": {},
   "outputs": [],
   "source": [
    "# x, y, z = return_axes(test)\n",
    "# fig = plt.figure()\n",
    "# ax = fig.gca(projection='3d')\n",
    "# ax.scatter(x.ravel(),\n",
    "#            y.ravel(),\n",
    "#            z.ravel())"
   ]
  }
 ],
 "metadata": {
  "kernelspec": {
   "display_name": "Python 3",
   "language": "python",
   "name": "python3"
  },
  "language_info": {
   "codemirror_mode": {
    "name": "ipython",
    "version": 3
   },
   "file_extension": ".py",
   "mimetype": "text/x-python",
   "name": "python",
   "nbconvert_exporter": "python",
   "pygments_lexer": "ipython3",
   "version": "3.7.3"
  }
 },
 "nbformat": 4,
 "nbformat_minor": 2
}
